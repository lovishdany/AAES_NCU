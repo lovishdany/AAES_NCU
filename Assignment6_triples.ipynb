{
  "nbformat": 4,
  "nbformat_minor": 0,
  "metadata": {
    "colab": {
      "provenance": [],
      "include_colab_link": true
    },
    "kernelspec": {
      "name": "python3",
      "display_name": "Python 3"
    },
    "language_info": {
      "name": "python"
    }
  },
  "cells": [
    {
      "cell_type": "markdown",
      "metadata": {
        "id": "view-in-github",
        "colab_type": "text"
      },
      "source": [
        "<a href=\"https://colab.research.google.com/github/lovishdany/AAES_NCU/blob/main/Assignment6_triples.ipynb\" target=\"_parent\"><img src=\"https://colab.research.google.com/assets/colab-badge.svg\" alt=\"Open In Colab\"/></a>"
      ]
    },
    {
      "cell_type": "markdown",
      "source": [
        "<b>The Problem Statement</b>:\n",
        "\n",
        "Form triples based on the following paragraph:\n",
        "\n",
        "\"Alice is enrolled in Computer Science 101. Bob is enrolled in Physics 201. Charlie is enrolled in Mathematics 301. Computer Science 101 is taught by Professor Smith. Physics 201 is taught by Professor Johnson. Mathematics 301 is taught by Professor Brown.\"\n",
        "\n",
        "Use the above to paragraph extract triples and build a complete graph representing the relationships between students, courses, and instructors in a university setting.\n",
        "\n",
        "\n",
        "\n",
        "\n",
        "\n"
      ],
      "metadata": {
        "id": "5r2msEl9py3R"
      }
    },
    {
      "cell_type": "markdown",
      "source": [
        "## The Code"
      ],
      "metadata": {
        "id": "hi0nFuvoppT9"
      }
    },
    {
      "cell_type": "markdown",
      "source": [
        "### Imports"
      ],
      "metadata": {
        "id": "q1ABUPU7L6em"
      }
    },
    {
      "cell_type": "code",
      "source": [
        "!pip install pyvis==0.1.9"
      ],
      "metadata": {
        "colab": {
          "base_uri": "https://localhost:8080/"
        },
        "id": "Z9ue7LAviGeu",
        "outputId": "94f21b25-a2e7-4227-ec24-8aee53d6baaf"
      },
      "execution_count": null,
      "outputs": [
        {
          "output_type": "stream",
          "name": "stdout",
          "text": [
            "Requirement already satisfied: pyvis==0.1.9 in /usr/local/lib/python3.10/dist-packages (0.1.9)\n",
            "Requirement already satisfied: jinja2>=2.9.6 in /usr/local/lib/python3.10/dist-packages (from pyvis==0.1.9) (3.1.2)\n",
            "Requirement already satisfied: networkx>=1.11 in /usr/local/lib/python3.10/dist-packages (from pyvis==0.1.9) (3.1)\n",
            "Requirement already satisfied: ipython>=5.3.0 in /usr/local/lib/python3.10/dist-packages (from pyvis==0.1.9) (7.34.0)\n",
            "Requirement already satisfied: jsonpickle>=1.4.1 in /usr/local/lib/python3.10/dist-packages (from pyvis==0.1.9) (3.0.2)\n",
            "Requirement already satisfied: setuptools>=18.5 in /usr/local/lib/python3.10/dist-packages (from ipython>=5.3.0->pyvis==0.1.9) (67.7.2)\n",
            "Requirement already satisfied: jedi>=0.16 in /usr/local/lib/python3.10/dist-packages (from ipython>=5.3.0->pyvis==0.1.9) (0.19.0)\n",
            "Requirement already satisfied: decorator in /usr/local/lib/python3.10/dist-packages (from ipython>=5.3.0->pyvis==0.1.9) (4.4.2)\n",
            "Requirement already satisfied: pickleshare in /usr/local/lib/python3.10/dist-packages (from ipython>=5.3.0->pyvis==0.1.9) (0.7.5)\n",
            "Requirement already satisfied: traitlets>=4.2 in /usr/local/lib/python3.10/dist-packages (from ipython>=5.3.0->pyvis==0.1.9) (5.7.1)\n",
            "Requirement already satisfied: prompt-toolkit!=3.0.0,!=3.0.1,<3.1.0,>=2.0.0 in /usr/local/lib/python3.10/dist-packages (from ipython>=5.3.0->pyvis==0.1.9) (3.0.39)\n",
            "Requirement already satisfied: pygments in /usr/local/lib/python3.10/dist-packages (from ipython>=5.3.0->pyvis==0.1.9) (2.16.1)\n",
            "Requirement already satisfied: backcall in /usr/local/lib/python3.10/dist-packages (from ipython>=5.3.0->pyvis==0.1.9) (0.2.0)\n",
            "Requirement already satisfied: matplotlib-inline in /usr/local/lib/python3.10/dist-packages (from ipython>=5.3.0->pyvis==0.1.9) (0.1.6)\n",
            "Requirement already satisfied: pexpect>4.3 in /usr/local/lib/python3.10/dist-packages (from ipython>=5.3.0->pyvis==0.1.9) (4.8.0)\n",
            "Requirement already satisfied: MarkupSafe>=2.0 in /usr/local/lib/python3.10/dist-packages (from jinja2>=2.9.6->pyvis==0.1.9) (2.1.3)\n",
            "Requirement already satisfied: parso<0.9.0,>=0.8.3 in /usr/local/lib/python3.10/dist-packages (from jedi>=0.16->ipython>=5.3.0->pyvis==0.1.9) (0.8.3)\n",
            "Requirement already satisfied: ptyprocess>=0.5 in /usr/local/lib/python3.10/dist-packages (from pexpect>4.3->ipython>=5.3.0->pyvis==0.1.9) (0.7.0)\n",
            "Requirement already satisfied: wcwidth in /usr/local/lib/python3.10/dist-packages (from prompt-toolkit!=3.0.0,!=3.0.1,<3.1.0,>=2.0.0->ipython>=5.3.0->pyvis==0.1.9) (0.2.6)\n"
          ]
        }
      ]
    },
    {
      "cell_type": "code",
      "source": [
        "### NLTK libraries for triples extraction\n",
        "from nltk.tokenize import word_tokenize\n",
        "from nltk import pos_tag\n",
        "\n",
        "### To plot a networkx graph in pyvis\n",
        "import networkx as nx\n",
        "from pyvis.network import Network\n",
        "from IPython.display import HTML\n",
        "from IPython.display import display,IFrame"
      ],
      "metadata": {
        "id": "i3TtxZ2SL6en"
      },
      "execution_count": null,
      "outputs": []
    },
    {
      "cell_type": "code",
      "source": [
        "import nltk\n",
        "nltk.download('punkt')\n",
        "nltk.download('averaged_perceptron_tagger')"
      ],
      "metadata": {
        "colab": {
          "base_uri": "https://localhost:8080/"
        },
        "id": "UVmaIJlAel-x",
        "outputId": "e3d63891-fe58-4f9c-8a90-974de2f02e86"
      },
      "execution_count": null,
      "outputs": [
        {
          "output_type": "stream",
          "name": "stderr",
          "text": [
            "[nltk_data] Downloading package punkt to /root/nltk_data...\n",
            "[nltk_data]   Package punkt is already up-to-date!\n",
            "[nltk_data] Downloading package averaged_perceptron_tagger to\n",
            "[nltk_data]     /root/nltk_data...\n",
            "[nltk_data]   Package averaged_perceptron_tagger is already up-to-\n",
            "[nltk_data]       date!\n"
          ]
        },
        {
          "output_type": "execute_result",
          "data": {
            "text/plain": [
              "True"
            ]
          },
          "metadata": {},
          "execution_count": 3
        }
      ]
    },
    {
      "cell_type": "markdown",
      "source": [
        "### Definition of the Triples"
      ],
      "metadata": {
        "id": "hnp5US3YLdEb"
      }
    },
    {
      "cell_type": "code",
      "source": [
        "# Manually define the triples from the paragraph in the subject predicate and object format as a list of tuples\n",
        "triples = [\n",
        "    (\"Alice\", \"Enrolled in\", \"Computer Science 101\"),\n",
        "    (\"Bob\", \"Enrolled in\", \"Physics 201\"),\n",
        "    (\"Charlie\", \"Enrolled in\", \"Mathematics 301\"),\n",
        "    (\"Computer Science 101\", \"Taught by\", \"Professor Smith\"),\n",
        "    (\"Physics 201\", \"Taught by\", \"Professor Johnson\"),\n",
        "    (\"Mathematics 301\", \"Taught by\", \"Professor Brown\")\n",
        "]"
      ],
      "metadata": {
        "id": "2XryJbWuLdEc"
      },
      "execution_count": null,
      "outputs": []
    },
    {
      "cell_type": "markdown",
      "source": [
        "### Graph Building using Networkx"
      ],
      "metadata": {
        "id": "EULYS1zCLF6l"
      }
    },
    {
      "cell_type": "code",
      "source": [
        "# Function to build a NetworkX graph from extracted triples\n",
        "def build_networkx_graph(triples):\n",
        "    \"\"\"\n",
        "    Builds a NetworkX graph from a list of subject-predicate-object triples.\n",
        "\n",
        "    Args:\n",
        "        triples (list): A list of extracted triples, each represented as a tuple (subject, predicate, object).\n",
        "\n",
        "    Returns:\n",
        "        networkx.Graph: A NetworkX graph representing relationships between students, courses, and instructors.\n",
        "    \"\"\"\n",
        "    # TO-DO: Implement the code to build a NetworkX graph from the triples\n",
        "    # Initialize an empty NetworkX graph\n",
        "\n",
        "    # Iterate through the triples\n",
        "\n",
        "    # Add nodes with node types (student, course, instructor)\n",
        "\n",
        "    # Add edges with relationship types (enrolled in, taught by)\n",
        "\n",
        "    # Return the NetworkX graph\n",
        "    Net_graph = nx.Graph()\n",
        "    for i in triples:\n",
        "      Net_graph.add_node(i[0], type=\"Student/Teacher\")\n",
        "      Net_graph.add_node(i[1], type=\"Relationship\")\n",
        "      Net_graph.add_node(i[2], type=\"Course\")\n",
        "      Net_graph.add_edge(i[0], i[1])\n",
        "      Net_graph.add_edge(i[1], i[2])\n",
        "\n",
        "    return Net_graph\n"
      ],
      "metadata": {
        "id": "dnAv1jaZLF6l"
      },
      "execution_count": null,
      "outputs": []
    },
    {
      "cell_type": "markdown",
      "source": [
        "### Graph Visualize using Matplotlib"
      ],
      "metadata": {
        "id": "zXJONO10fCBU"
      }
    },
    {
      "cell_type": "code",
      "source": [
        "# Function to save the graph as \"university_relationship_graph.html\" using PyVis\n",
        "def save_graph_pyvis(graph):\n",
        "    \"\"\"\n",
        "    Visualizes a NetworkX graph using PyVis and saves it as an HTML file.\n",
        "\n",
        "    Args:\n",
        "        graph (networkx.Graph): The NetworkX graph to be visualized.\n",
        "\n",
        "    Returns:\n",
        "        None\n",
        "    \"\"\"\n",
        "    # TO-DO: Implement the code to visualize the graph using PyVis\n",
        "    # Create an empty PyVis Network object\n",
        "\n",
        "    # Add nodes and edges to the PyVis graph\n",
        "\n",
        "    # Save the graph as an HTML file\n",
        "    # Remove this 'pass' statement when implementing the code\n",
        "    pyvis_net = Network()\n",
        "    pyvis_net.from_nx(graph)\n",
        "    pyvis_net.write_html(\"university_relationship_graph.html\")\n",
        "    display(HTML(\"university_relationship_graph.html\"))"
      ],
      "metadata": {
        "id": "-BleLeI_fCBb"
      },
      "execution_count": null,
      "outputs": []
    },
    {
      "cell_type": "markdown",
      "source": [
        "### Main function to solve the problem"
      ],
      "metadata": {
        "id": "TYRZ-f3G6Tpj"
      }
    },
    {
      "cell_type": "code",
      "source": [
        "# Given paragraph\n",
        "paragraph = \"Alice is enrolled in Computer Science 101. Bob is enrolled in Physics 201. Charlie is enrolled in Mathematics 301. Computer Science 101 is taught by Professor Smith. Physics 201 is taught by Professor Johnson. Mathematics 301 is taught by Professor Brown.\"\n",
        "# Build a graph using the manually defined triples\n",
        "graph = build_networkx_graph(triples)\n",
        "\n",
        "# Visualize the graph\n",
        "save_graph_pyvis(graph)\n"
      ],
      "metadata": {
        "id": "VFUkDQUY6WiX",
        "colab": {
          "base_uri": "https://localhost:8080/",
          "height": 538
        },
        "outputId": "a01a44d6-9b2e-4a76-b9a1-e521afee3a5a"
      },
      "execution_count": null,
      "outputs": [
        {
          "output_type": "display_data",
          "data": {
            "text/plain": [
              "<IPython.core.display.HTML object>"
            ],
            "text/html": [
              "<html>\n",
              "<head>\n",
              "<link rel=\"stylesheet\" href=\"https://cdnjs.cloudflare.com/ajax/libs/vis/4.16.1/vis.css\" type=\"text/css\" />\n",
              "<script type=\"text/javascript\" src=\"https://cdnjs.cloudflare.com/ajax/libs/vis/4.16.1/vis-network.min.js\"> </script>\n",
              "<center>\n",
              "<h1></h1>\n",
              "</center>\n",
              "\n",
              "<!-- <link rel=\"stylesheet\" href=\"../node_modules/vis/dist/vis.min.css\" type=\"text/css\" />\n",
              "<script type=\"text/javascript\" src=\"../node_modules/vis/dist/vis.js\"> </script>-->\n",
              "\n",
              "<style type=\"text/css\">\n",
              "\n",
              "        #mynetwork {\n",
              "            width: 500px;\n",
              "            height: 500px;\n",
              "            background-color: #ffffff;\n",
              "            border: 1px solid lightgray;\n",
              "            position: relative;\n",
              "            float: left;\n",
              "        }\n",
              "\n",
              "        \n",
              "\n",
              "        \n",
              "\n",
              "        \n",
              "</style>\n",
              "\n",
              "</head>\n",
              "\n",
              "<body>\n",
              "<div id = \"mynetwork\"></div>\n",
              "\n",
              "\n",
              "<script type=\"text/javascript\">\n",
              "\n",
              "    // initialize global variables.\n",
              "    var edges;\n",
              "    var nodes;\n",
              "    var network; \n",
              "    var container;\n",
              "    var options, data;\n",
              "\n",
              "    \n",
              "    // This method is responsible for drawing the graph, returns the drawn network\n",
              "    function drawGraph() {\n",
              "        var container = document.getElementById('mynetwork');\n",
              "        \n",
              "        \n",
              "\n",
              "        // parsing and collecting nodes and edges from the python\n",
              "        nodes = new vis.DataSet([{\"id\": \"Alice\", \"label\": \"Alice\", \"shape\": \"dot\", \"size\": 10, \"type\": \"Student/Teacher\"}, {\"id\": \"Enrolled in\", \"label\": \"Enrolled in\", \"shape\": \"dot\", \"size\": 10, \"type\": \"Relationship\"}, {\"id\": \"Computer Science 101\", \"label\": \"Computer Science 101\", \"shape\": \"dot\", \"size\": 10, \"type\": \"Student/Teacher\"}, {\"id\": \"Bob\", \"label\": \"Bob\", \"shape\": \"dot\", \"size\": 10, \"type\": \"Student/Teacher\"}, {\"id\": \"Physics 201\", \"label\": \"Physics 201\", \"shape\": \"dot\", \"size\": 10, \"type\": \"Student/Teacher\"}, {\"id\": \"Charlie\", \"label\": \"Charlie\", \"shape\": \"dot\", \"size\": 10, \"type\": \"Student/Teacher\"}, {\"id\": \"Mathematics 301\", \"label\": \"Mathematics 301\", \"shape\": \"dot\", \"size\": 10, \"type\": \"Student/Teacher\"}, {\"id\": \"Taught by\", \"label\": \"Taught by\", \"shape\": \"dot\", \"size\": 10, \"type\": \"Relationship\"}, {\"id\": \"Professor Smith\", \"label\": \"Professor Smith\", \"shape\": \"dot\", \"size\": 10, \"type\": \"Course\"}, {\"id\": \"Professor Johnson\", \"label\": \"Professor Johnson\", \"shape\": \"dot\", \"size\": 10, \"type\": \"Course\"}, {\"id\": \"Professor Brown\", \"label\": \"Professor Brown\", \"shape\": \"dot\", \"size\": 10, \"type\": \"Course\"}]);\n",
              "        edges = new vis.DataSet([{\"from\": \"Alice\", \"to\": \"Enrolled in\", \"weight\": 1}, {\"from\": \"Enrolled in\", \"to\": \"Computer Science 101\", \"weight\": 1}, {\"from\": \"Enrolled in\", \"to\": \"Bob\", \"weight\": 1}, {\"from\": \"Enrolled in\", \"to\": \"Physics 201\", \"weight\": 1}, {\"from\": \"Enrolled in\", \"to\": \"Charlie\", \"weight\": 1}, {\"from\": \"Enrolled in\", \"to\": \"Mathematics 301\", \"weight\": 1}, {\"from\": \"Computer Science 101\", \"to\": \"Taught by\", \"weight\": 1}, {\"from\": \"Physics 201\", \"to\": \"Taught by\", \"weight\": 1}, {\"from\": \"Mathematics 301\", \"to\": \"Taught by\", \"weight\": 1}, {\"from\": \"Taught by\", \"to\": \"Professor Smith\", \"weight\": 1}, {\"from\": \"Taught by\", \"to\": \"Professor Johnson\", \"weight\": 1}, {\"from\": \"Taught by\", \"to\": \"Professor Brown\", \"weight\": 1}]);\n",
              "\n",
              "        // adding nodes and edges to the graph\n",
              "        data = {nodes: nodes, edges: edges};\n",
              "\n",
              "        var options = {\n",
              "    \"configure\": {\n",
              "        \"enabled\": false\n",
              "    },\n",
              "    \"edges\": {\n",
              "        \"color\": {\n",
              "            \"inherit\": true\n",
              "        },\n",
              "        \"smooth\": {\n",
              "            \"enabled\": false,\n",
              "            \"type\": \"continuous\"\n",
              "        }\n",
              "    },\n",
              "    \"interaction\": {\n",
              "        \"dragNodes\": true,\n",
              "        \"hideEdgesOnDrag\": false,\n",
              "        \"hideNodesOnDrag\": false\n",
              "    },\n",
              "    \"physics\": {\n",
              "        \"enabled\": true,\n",
              "        \"stabilization\": {\n",
              "            \"enabled\": true,\n",
              "            \"fit\": true,\n",
              "            \"iterations\": 1000,\n",
              "            \"onlyDynamicEdges\": false,\n",
              "            \"updateInterval\": 50\n",
              "        }\n",
              "    }\n",
              "};\n",
              "        \n",
              "        \n",
              "\n",
              "        \n",
              "\n",
              "        network = new vis.Network(container, data, options);\n",
              "\t \n",
              "        \n",
              "\n",
              "\n",
              "        \n",
              "\n",
              "        return network;\n",
              "\n",
              "    }\n",
              "\n",
              "    drawGraph();\n",
              "\n",
              "</script>\n",
              "</body>\n",
              "</html>"
            ]
          },
          "metadata": {}
        }
      ]
    }
  ]
}