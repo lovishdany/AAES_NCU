{
  "nbformat": 4,
  "nbformat_minor": 0,
  "metadata": {
    "colab": {
      "provenance": [],
      "include_colab_link": true
    },
    "kernelspec": {
      "name": "python3",
      "display_name": "Python 3"
    },
    "language_info": {
      "name": "python"
    }
  },
  "cells": [
    {
      "cell_type": "markdown",
      "metadata": {
        "id": "view-in-github",
        "colab_type": "text"
      },
      "source": [
        "<a href=\"https://colab.research.google.com/github/lovishdany/AAES_NCU/blob/main/Assignment1_Rule_Based_System.ipynb\" target=\"_parent\"><img src=\"https://colab.research.google.com/assets/colab-badge.svg\" alt=\"Open In Colab\"/></a>"
      ]
    },
    {
      "cell_type": "markdown",
      "source": [
        "<b>The Problem Statement</b>:\n",
        "\n",
        "You are tasked with creating a simple rule-based pet care assistant in Python. The goal is to develop a basic program that provides helpful reminders and suggestions for taking care of different types of pets, such as dogs, cats, and birds, based on predefined rules.\n",
        "\n",
        "<b>Some Rules to get you started</b>:\n",
        "\n",
        "*Example of a rule for dogs:* If the dog is a puppy (i.e. less than 2 years old) frequent training may be needed.\n",
        "\n",
        "*Example of a rule for cats:* If the cat's health is poor one may needed onitor their cat closely and consult a vet for any health issues."
      ],
      "metadata": {
        "id": "5r2msEl9py3R"
      }
    },
    {
      "cell_type": "code",
      "source": [],
      "metadata": {
        "id": "bPkPsszQESW3"
      },
      "execution_count": 32,
      "outputs": []
    },
    {
      "cell_type": "markdown",
      "source": [
        "## The Code"
      ],
      "metadata": {
        "id": "hi0nFuvoppT9"
      }
    },
    {
      "cell_type": "markdown",
      "source": [],
      "metadata": {
        "id": "wb3nXScStc8D"
      }
    },
    {
      "cell_type": "code",
      "source": [],
      "metadata": {
        "id": "te571_WazWKL"
      },
      "execution_count": 32,
      "outputs": []
    },
    {
      "cell_type": "markdown",
      "source": [],
      "metadata": {
        "id": "RiHIQ0zytcdX"
      }
    },
    {
      "cell_type": "markdown",
      "source": [
        "### Function to get the user's pet choice"
      ],
      "metadata": {
        "id": "WZrvsX8_ri3a"
      }
    },
    {
      "cell_type": "code",
      "source": [
        "# Function to get the user's pet choice\n",
        "def get_pet_choice():\n",
        "  pet_choice = int(input('''\n",
        "  Hello, I'm your pet care assistant.\n",
        "  1. Dogs\n",
        "  2. Cats\n",
        "  3. Birds\n",
        "  Enter your choice : '''))\n",
        "\n",
        "  return pet_choice\n",
        "#get_pet_choice()"
      ],
      "metadata": {
        "id": "eZOS63c-rij3"
      },
      "execution_count": 33,
      "outputs": []
    },
    {
      "cell_type": "markdown",
      "source": [
        "### Function to get pet's age and health as input from user"
      ],
      "metadata": {
        "id": "ih-mnNqnvI6N"
      }
    },
    {
      "cell_type": "code",
      "source": [
        "\n",
        "# Function to get the pet's age from the user\n",
        "def get_pet_age():\n",
        "  pet_age = int(input('''\n",
        "  Enter pet's age: '''))\n",
        "  return pet_age"
      ],
      "metadata": {
        "id": "bOmAKcsmvGkM"
      },
      "execution_count": 34,
      "outputs": []
    },
    {
      "cell_type": "code",
      "source": [
        "\n",
        "def get_pet_health():\n",
        "  pet_health = int(input('''\n",
        "  What would best define your pet's health:\n",
        "  1. Very Good\n",
        "  2. Good\n",
        "  3. Moderate\n",
        "  4. Poor\n",
        "  5. Worse\n",
        "  Enter your choice: '''))\n",
        "\n",
        "  return pet_health"
      ],
      "metadata": {
        "id": "31-njL3fvIEn"
      },
      "execution_count": 35,
      "outputs": []
    },
    {
      "cell_type": "markdown",
      "source": [
        "### Function for rules for providing pet care tips"
      ],
      "metadata": {
        "id": "10mIZiAxrIWD"
      }
    },
    {
      "cell_type": "code",
      "execution_count": 36,
      "metadata": {
        "id": "EIpHv9ckpYzh"
      },
      "outputs": [],
      "source": [
        "# Function to provide pet care tips based on the user's choice, age, and health\n",
        "def provide_pet_care_tips(pet_choice, pet_age, pet_health):\n",
        "  if pet_choice == 1:\n",
        "    if pet_age < 2:\n",
        "      print(\"Your puppy requires frequent training.\")\n",
        "    else:\n",
        "      print(\"Your dog is a grown up now and can guard home.\")\n",
        "\n",
        "  elif pet_choice == 2:\n",
        "    if pet_age < 2:\n",
        "      print(\"Your kitten requires frequent training.\")\n",
        "    else:\n",
        "      print(\"Your cat is a grown up now.\")\n",
        "\n",
        "  else:\n",
        "    print(\"Birds are lovely pets.\")\n",
        "\n",
        "  print(\"\\n\")\n",
        "  if pet_health <= 3:\n",
        "    print(\"Health is ok. Just let things be\")\n",
        "  else:\n",
        "    print(\"Health is poor. Consult a vet.\")"
      ]
    },
    {
      "cell_type": "markdown",
      "source": [
        "### Main function to run the pet care assistant"
      ],
      "metadata": {
        "id": "GIJtbG2UrtJM"
      }
    },
    {
      "cell_type": "code",
      "source": [
        "# Main function to run the pet care assistant\n",
        "def pet_care_assistant():\n",
        "  p1 = get_pet_choice()\n",
        "  p2 = get_pet_age()\n",
        "  p3 = get_pet_health()\n",
        "  print(\"\\n\")\n",
        "  provide_pet_care_tips(p1,p2,p3)\n"
      ],
      "metadata": {
        "id": "Sfqbwb0du179"
      },
      "execution_count": 37,
      "outputs": []
    },
    {
      "cell_type": "code",
      "source": [
        "# Run the program\n",
        "if __name__ == \"__main__\":\n",
        "    pet_care_assistant()  # Start the pet care assistant"
      ],
      "metadata": {
        "id": "Bm-vnwCvrxy4",
        "outputId": "98ba78f3-7067-40c5-ad8f-f14a47b802b5",
        "colab": {
          "base_uri": "https://localhost:8080/"
        }
      },
      "execution_count": 38,
      "outputs": [
        {
          "output_type": "stream",
          "name": "stdout",
          "text": [
            "\n",
            "  Hello, I'm your pet care assistant.\n",
            "  1. Dogs\n",
            "  2. Cats\n",
            "  3. Birds\n",
            "  Enter your choice : 3\n",
            "\n",
            "  Enter pet's age: 5\n",
            "\n",
            "  What would best define your pet's health:\n",
            "  1. Very Good\n",
            "  2. Good\n",
            "  3. Moderate\n",
            "  4. Poor\n",
            "  5. Worse\n",
            "  Enter your choice: 2\n",
            "\n",
            "\n",
            "Birds are lovely pets.\n",
            "\n",
            "\n",
            "Health is ok. Just let things be\n"
          ]
        }
      ]
    }
  ]
}