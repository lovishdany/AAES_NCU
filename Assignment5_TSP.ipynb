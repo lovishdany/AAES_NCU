{
  "nbformat": 4,
  "nbformat_minor": 0,
  "metadata": {
    "colab": {
      "provenance": [],
      "include_colab_link": true
    },
    "kernelspec": {
      "name": "python3",
      "display_name": "Python 3"
    },
    "language_info": {
      "name": "python"
    }
  },
  "cells": [
    {
      "cell_type": "markdown",
      "metadata": {
        "id": "view-in-github",
        "colab_type": "text"
      },
      "source": [
        "<a href=\"https://colab.research.google.com/github/lovishdany/AAES_NCU/blob/main/Assignment5_TSP.ipynb\" target=\"_parent\"><img src=\"https://colab.research.google.com/assets/colab-badge.svg\" alt=\"Open In Colab\"/></a>"
      ]
    },
    {
      "cell_type": "markdown",
      "source": [
        "<b>The Problem Statement</b>:\n",
        "\n",
        "Write a Python program to solve the Travelling Salesman problem using Branch and Bound approach.\n",
        "\n",
        "Imagine a salesman who needs to visit a set of cities and return to his starting point while minimizing the total distance traveled. Let's consider a small set of cities with their pairwise distances:\n",
        "\n",
        "City A to City B: 10 miles\n",
        "\n",
        "City A to City C: 15 miles\n",
        "\n",
        "City A to City D: 20 miles\n",
        "\n",
        "City B to City C: 35 miles\n",
        "\n",
        "City B to City D: 25 miles\n",
        "\n",
        "City C to City D: 30 miles\n",
        "\n",
        "The goal of the TSP is to find the shortest possible route that visits each city exactly once and returns to the starting city.\n",
        "\n",
        "\n",
        "<i><b>Expectation from the code</b></i>\n",
        "\n",
        "-> Cost Matrix\n",
        "\n",
        "-> Reduced cost matrix\n",
        "\n",
        "-> All the intermediate matrices (reduced cost) formed during the process to find cost of a path\n",
        "\n",
        "-> And finally the cost\n",
        "\n",
        "\n"
      ],
      "metadata": {
        "id": "HI4jHNCmpxfY"
      }
    },
    {
      "cell_type": "code",
      "source": [
        "import numpy as np\n",
        "import math"
      ],
      "metadata": {
        "id": "4tYgJWVKNhTm"
      },
      "execution_count": null,
      "outputs": []
    },
    {
      "cell_type": "code",
      "source": [
        "cost_matrix = np.array([[math.inf, 10, 15, 20],\n",
        "              [10, math.inf, 35, 25],\n",
        "              [15, 35, math.inf, 30],\n",
        "              [20, 25, 30, math.inf]])\n",
        "list_of_cities = [\"A\",\"B\",\"C\",\"D\"]"
      ],
      "metadata": {
        "id": "1lJ28mATNn6n"
      },
      "execution_count": null,
      "outputs": []
    },
    {
      "cell_type": "code",
      "source": [
        "def reduce_matrix(cost_matrix):\n",
        "    n = np.shape(cost_matrix)[0]\n",
        "    row_min = []\n",
        "    column_min = []\n",
        "    for i in range(n):\n",
        "        minimum_row = min(cost_matrix[i, :])\n",
        "        if minimum_row == math.inf:\n",
        "            minimum_row = 0\n",
        "        row_min.append(minimum_row)\n",
        "        cost_matrix[i, :] = cost_matrix[i, :] - minimum_row\n",
        "    for j in range(n):\n",
        "        minimum_col = min(cost_matrix[:, j])\n",
        "        if minimum_col == math.inf:\n",
        "            minimum_col = 0\n",
        "        column_min.append(minimum_col)\n",
        "        cost_matrix[:, j] = cost_matrix[:, j] - minimum_col\n",
        "    cost = sum(row_min) + sum(column_min)\n",
        "    return [cost_matrix, cost]"
      ],
      "metadata": {
        "id": "HR7AQ-5O5h7R"
      },
      "execution_count": null,
      "outputs": []
    },
    {
      "cell_type": "code",
      "source": [
        "class Node:\n",
        "\n",
        "  def __init__(self, cost_matrix, name):\n",
        "    self.name = name\n",
        "    self.cost_matrix = cost_matrix\n",
        "    self.next = None\n",
        "\n",
        "  def cost(self):\n",
        "    return reduce_matrix(self.cost_matrix)[1]\n",
        "\n",
        "  def reduced_matrix(self):\n",
        "    return reduce_matrix(self.cost_matrix)[0]"
      ],
      "metadata": {
        "id": "20T37Jtr5voG"
      },
      "execution_count": null,
      "outputs": []
    },
    {
      "cell_type": "code",
      "source": [
        "route=[\"A\"]\n",
        "starting_node = Node(cost_matrix.copy(), \"A\")\n",
        "cost = starting_node.cost()\n",
        "matrix = starting_node.reduced_matrix()\n",
        "print(cost)\n",
        "print(matrix)\n",
        "route_cost=[cost]\n",
        "list_of_cities[0] = math.inf\n",
        "count = len(list_of_cities)\n",
        "current_node = starting_node\n",
        "last_node = 0\n",
        "while count > 0:\n",
        "    list_cost = []\n",
        "    nodes = []\n",
        "    for i in range(0, len(list_of_cities)):\n",
        "        if list_of_cities[i] == math.inf:\n",
        "            list_cost.append(math.inf)\n",
        "            nodes.append(math.inf)\n",
        "            continue\n",
        "        else:\n",
        "            matrix = np.copy(current_node.reduced_matrix())\n",
        "            matrix[last_node, :] = math.inf\n",
        "            matrix[i, last_node] = math.inf\n",
        "            matrix[:, i] = math.inf\n",
        "            new_node = Node(matrix, list_of_cities[i])\n",
        "            cost_curr = new_node.cost()\n",
        "            reduced_curr = new_node.reduced_matrix()\n",
        "            print(cost_curr)\n",
        "            print(reduced_curr)\n",
        "            list_cost.append(cost_curr)\n",
        "            nodes.append(new_node)\n",
        "    min_index = list_cost.index(min(list_cost))\n",
        "    route.append(list_of_cities[min_index])\n",
        "    route_cost.append(list_cost[min_index])\n",
        "    list_of_cities[min_index] = math.inf\n",
        "    current_node.next = nodes[min_index]\n",
        "    current_node = nodes[min_index]\n",
        "    last_node = min_index\n",
        "    count -= 1"
      ],
      "metadata": {
        "colab": {
          "base_uri": "https://localhost:8080/"
        },
        "id": "q5o0-uMxdckc",
        "outputId": "05e63721-e0d0-4f73-cfb7-7654b3d426e9"
      },
      "execution_count": null,
      "outputs": [
        {
          "output_type": "stream",
          "name": "stdout",
          "text": [
            "70.0\n",
            "[[inf  0.  0.  0.]\n",
            " [ 0. inf 20.  5.]\n",
            " [ 0. 20. inf  5.]\n",
            " [ 0.  5.  5. inf]]\n",
            "10.0\n",
            "[[inf inf inf inf]\n",
            " [inf inf 10.  0.]\n",
            " [ 0. inf inf  5.]\n",
            " [ 0. inf  0. inf]]\n",
            "10.0\n",
            "[[inf inf inf inf]\n",
            " [ 0. inf inf  5.]\n",
            " [inf 10. inf  0.]\n",
            " [ 0.  0. inf inf]]\n",
            "5.0\n",
            "[[inf inf inf inf]\n",
            " [ 0. inf 20. inf]\n",
            " [ 0. 20. inf inf]\n",
            " [inf  0.  0. inf]]\n",
            "20.0\n",
            "[[inf inf inf inf]\n",
            " [ 0. inf  0. inf]\n",
            " [ 0. inf inf inf]\n",
            " [inf inf inf inf]]\n",
            "20.0\n",
            "[[inf inf inf inf]\n",
            " [ 0. inf inf inf]\n",
            " [ 0.  0. inf inf]\n",
            " [inf inf inf inf]]\n",
            "0.0\n",
            "[[inf inf inf inf]\n",
            " [inf inf inf inf]\n",
            " [ 0. inf inf inf]\n",
            " [inf inf inf inf]]\n"
          ]
        }
      ]
    },
    {
      "cell_type": "code",
      "source": [
        "print(route)\n",
        "print(route_cost)"
      ],
      "metadata": {
        "id": "RBUKrEWY9ZJL",
        "colab": {
          "base_uri": "https://localhost:8080/"
        },
        "outputId": "a351c000-526c-424d-9d26-5cd80f4e2cc0"
      },
      "execution_count": null,
      "outputs": [
        {
          "output_type": "stream",
          "name": "stdout",
          "text": [
            "['A', 'D', 'B', 'C', inf]\n",
            "[70.0, 5.0, 20.0, 0.0, inf]\n"
          ]
        }
      ]
    }
  ]
}