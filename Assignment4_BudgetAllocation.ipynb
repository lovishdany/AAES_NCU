{
  "nbformat": 4,
  "nbformat_minor": 0,
  "metadata": {
    "colab": {
      "provenance": [],
      "include_colab_link": true
    },
    "kernelspec": {
      "name": "python3",
      "display_name": "Python 3"
    },
    "language_info": {
      "name": "python"
    }
  },
  "cells": [
    {
      "cell_type": "markdown",
      "metadata": {
        "id": "view-in-github",
        "colab_type": "text"
      },
      "source": [
        "<a href=\"https://colab.research.google.com/github/lovishdany/AAES_NCU/blob/main/Assignment4_BudgetAllocation.ipynb\" target=\"_parent\"><img src=\"https://colab.research.google.com/assets/colab-badge.svg\" alt=\"Open In Colab\"/></a>"
      ]
    },
    {
      "cell_type": "markdown",
      "source": [
        "<b>The Problem Statement</b>:\n",
        "\n",
        "Write a Greedy Algorithm Based program for the following problem:\n",
        "A company is planning to launch a new product. They have a limited budget to spend on marketing and advertising. They need to decide how to allocate their budget to maximize the number of people who will be aware of their product.\n",
        "Marketing Channels:\n",
        "\n",
        "\n",
        "Social Media: Cost - 50,  Reach - 1000 people aware of the product.\n",
        "\n",
        "\n",
        "Email Campaign: Cost - $80, Reach - 1500 people aware of the product.</br>\n",
        "\n",
        "\n",
        "Influencer Collaboration: Cost - $120, Reach - 2500 people aware of the product.\n",
        "\n",
        "Budget Constraint: $200\n",
        "\n",
        "Now, the company wants to allocate their budget to these marketing channels in such a way that they maximize the total number of people aware of their product.\n",
        "\n",
        "\n",
        "\n",
        "\n",
        "\n"
      ],
      "metadata": {
        "id": "5r2msEl9py3R"
      }
    },
    {
      "cell_type": "markdown",
      "source": [
        "## The Code"
      ],
      "metadata": {
        "id": "hi0nFuvoppT9"
      }
    },
    {
      "cell_type": "markdown",
      "source": [
        "### Imports"
      ],
      "metadata": {
        "id": "q1ABUPU7L6em"
      }
    },
    {
      "cell_type": "code",
      "source": [
        "import heapq"
      ],
      "metadata": {
        "id": "i3TtxZ2SL6en"
      },
      "execution_count": null,
      "outputs": []
    },
    {
      "cell_type": "markdown",
      "source": [
        "### Definition of Heuristic Functions"
      ],
      "metadata": {
        "id": "hnp5US3YLdEb"
      }
    },
    {
      "cell_type": "code",
      "source": [
        "# Define heuristic functions\n",
        "def reach_to_cost_ratio_heuristic(channels_index):\n",
        "  reach = channels_index[0]\n",
        "  cost = channels_index[1]\n",
        "  return reach/cost\n",
        "\n",
        "def reach_heuristic(channels_index):\n",
        "  reach = channels_index[0]\n",
        "  return reach"
      ],
      "metadata": {
        "id": "2XryJbWuLdEc"
      },
      "execution_count": null,
      "outputs": []
    },
    {
      "cell_type": "markdown",
      "source": [
        "### Priority Queue Creation"
      ],
      "metadata": {
        "id": "EULYS1zCLF6l"
      }
    },
    {
      "cell_type": "code",
      "source": [
        "def create_priority_queue(channels, heuristic_function):\n",
        "    queue = []\n",
        "\n",
        "    if heuristic_function == reach_heuristic:\n",
        "        while channels:\n",
        "            max_reach = 0\n",
        "            index = 0\n",
        "            for i in range(0, len(channels)):\n",
        "                if reach_heuristic(channels[i]) > max_reach:\n",
        "                    max_reach = reach_heuristic(channels[i])\n",
        "                    index = i\n",
        "            element = channels.pop(index)\n",
        "            queue.append(element)\n",
        "    elif heuristic_function == reach_to_cost_ratio_heuristic:\n",
        "        while channels:\n",
        "            max_reach = 0\n",
        "            index = 0\n",
        "            for i in range(0, len(channels)):\n",
        "                if reach_to_cost_ratio_heuristic(channels[i]) > max_reach:\n",
        "                    max_reach = reach_to_cost_ratio_heuristic(channels[i])\n",
        "                    index = i\n",
        "            element = channels.pop(index)\n",
        "            queue.append(element)\n",
        "\n",
        "    return queue"
      ],
      "metadata": {
        "id": "dnAv1jaZLF6l"
      },
      "execution_count": null,
      "outputs": []
    },
    {
      "cell_type": "markdown",
      "source": [
        "### Define the Greedy algorithm"
      ],
      "metadata": {
        "id": "WZrvsX8_ri3a"
      }
    },
    {
      "cell_type": "code",
      "source": [
        "def greedy_allocation(priority_queue, budget):\n",
        "    for i in range(0,len(priority_queue)):\n",
        "      element_removed = priority_queue[i]\n",
        "      if budget < element_removed[1]:\n",
        "        continue\n",
        "      else:\n",
        "        budget-=element_removed[1]\n",
        "        print(element_removed)\n",
        "      if len(priority_queue) == 0:\n",
        "          break"
      ],
      "metadata": {
        "id": "Lk7ipyj16Jx8"
      },
      "execution_count": null,
      "outputs": []
    },
    {
      "cell_type": "markdown",
      "source": [
        "### Main function to solve the problem"
      ],
      "metadata": {
        "id": "TYRZ-f3G6Tpj"
      }
    },
    {
      "cell_type": "code",
      "source": [
        "# Define the marketing channels as tuples (reach, cost, channel_name)\n",
        "social_media = (1000, 50, \"Social Media\")\n",
        "email_campaign = (1500, 80, \"Email Campaign\")\n",
        "influencer_collaboration = (2500, 120, \"Influencer Collaboration\")\n",
        "\n",
        "# Create a list of marketing channels\n",
        "marketing_channels = [social_media, email_campaign, influencer_collaboration]\n",
        "\n",
        "# Budget constraint\n",
        "budget_constraint = 200\n",
        "\n",
        "\n",
        "def main():\n",
        "  priority_queue = create_priority_queue(marketing_channels, reach_to_cost_ratio_heuristic)\n",
        "  greedy_allocation(priority_queue, budget_constraint)\n",
        "if __name__== \"__main__\":\n",
        "  main()"
      ],
      "metadata": {
        "id": "VFUkDQUY6WiX",
        "colab": {
          "base_uri": "https://localhost:8080/"
        },
        "outputId": "e4bcd801-0816-43f4-84fd-a719611b47da"
      },
      "execution_count": null,
      "outputs": [
        {
          "output_type": "stream",
          "name": "stdout",
          "text": [
            "(2500, 120, 'Influencer Collaboration')\n",
            "(1000, 50, 'Social Media')\n"
          ]
        }
      ]
    }
  ]
}